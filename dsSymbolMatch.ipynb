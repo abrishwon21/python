{
  "nbformat": 4,
  "nbformat_minor": 0,
  "metadata": {
    "colab": {
      "name": "Untitled7.ipynb",
      "provenance": [],
      "collapsed_sections": [],
      "authorship_tag": "ABX9TyMEUVhU3qw5l74RGYl1tsjY",
      "include_colab_link": true
    },
    "kernelspec": {
      "name": "python3",
      "display_name": "Python 3"
    }
  },
  "cells": [
    {
      "cell_type": "markdown",
      "metadata": {
        "id": "view-in-github",
        "colab_type": "text"
      },
      "source": [
        "<a href=\"https://colab.research.google.com/github/abrishwon21/python/blob/master/dsSymbolMatch.ipynb\" target=\"_parent\"><img src=\"https://colab.research.google.com/assets/colab-badge.svg\" alt=\"Open In Colab\"/></a>"
      ]
    },
    {
      "cell_type": "code",
      "metadata": {
        "id": "UreIll_Oxe8U",
        "colab_type": "code",
        "colab": {
          "base_uri": "https://localhost:8080/",
          "height": 260
        },
        "outputId": "8d79c313-833c-4f51-e321-1ea44bae37b6"
      },
      "source": [
        "#check wether the symbol is matching or not using stack concept\n",
        "#stack should be implemented using linkedlist\n",
        "class Node:\n",
        "  def __init__(self,new_data):\n",
        "    self.data=new_data\n",
        "    self.next=None\n",
        "#create Stack class\n",
        "class Stack:\n",
        "  def __init__(self):\n",
        "    self.head=None\n",
        "  '''\n",
        "  stack has the following main operations\n",
        "  1.push\n",
        "  2.pop\n",
        "  Auxiliary operations:\n",
        "  1.isEmpty()\n",
        "  2.isFull\n",
        "  3.peak value etc\n",
        "  '''\n",
        "  def push(self,ndata):\n",
        "    new_node=Node(ndata)\n",
        "    new_node.next=self.head\n",
        "    self.head=new_node\n",
        "\n",
        "  def display(self):\n",
        "    temp=self.head\n",
        "    while temp.next!=None:\n",
        "      print(temp.data)\n",
        "      temp=temp.next\n",
        "    print(temp.data)\n",
        "  def isEmpty(self):\n",
        "    if(self.head==None):\n",
        "      return True\n",
        "  def pop(self):\n",
        "    if(self.isEmpty()!=True):\n",
        "      poped=self.head.data\n",
        "      self.head=self.head.next\n",
        "      print(poped)\n",
        "      #poped.next=None\n",
        "  \n",
        "  def isMached(self):\n",
        "    n=int(input(\"please enter the size of symbols\"))\n",
        "    tp=self.head\n",
        "    for i in range(n):\n",
        "      symbol=input(\"please enter the symbol\")\n",
        "      if(symbol=='[' or symbol=='(' or symbol=='{'):\n",
        "        self.push(symbol)\n",
        "      elif ((symbol==']' and self.head.data=='[')or (symbol==')' and self.head.data=='(') or (symbol=='}' and self.head.data=='{')):\n",
        "        \n",
        "        if(self.isEmpty()==True):\n",
        "          break\n",
        "          \n",
        "          return False\n",
        "        else:\n",
        "          \n",
        "          self.pop()\n",
        "          \n",
        "          \n",
        "      else:\n",
        "        continue\n",
        "\n",
        "    return True\n",
        "\n",
        "#driver\n",
        "ck=Stack()\n",
        "\n",
        "if(ck.isMached()==True and ck.isEmpty()==True):\n",
        "  print(\"The symbol is matched\")\n",
        "else:\n",
        "  print(\"not matched\")"
      ],
      "execution_count": 24,
      "outputs": [
        {
          "output_type": "stream",
          "text": [
            "please enter the size of symbols8\n",
            "please enter the symbol[\n",
            "please enter the symbol[\n",
            "please enter the symbol{\n",
            "please enter the symbol}\n",
            "{\n",
            "please enter the symbol(\n",
            "please enter the symbol)\n",
            "(\n",
            "please enter the symbol]\n",
            "[\n",
            "please enter the symbol]\n",
            "[\n",
            "The symbol is matched\n"
          ],
          "name": "stdout"
        }
      ]
    }
  ]
}